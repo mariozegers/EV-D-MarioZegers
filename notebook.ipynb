{
 "cells": [
  {
   "cell_type": "code",
   "execution_count": 2,
   "metadata": {},
   "outputs": [
    {
     "name": "stdout",
     "output_type": "stream",
     "text": [
      "threadreaderapp - 1762461\n",
      "GeorgekurianINC - 1711890\n",
      "CyberAnonymous - 1435641\n",
      "unbiased100 - 1027493\n",
      "pavan_sethi - 1015822\n",
      "animesh1977 - 974774\n",
      "CNBCTV18Live - 944150\n",
      "htTweets - 867974\n",
      "CNNnews18 - 863754\n",
      "IndiaToday - 851154\n"
     ]
    }
   ],
   "source": [
    "from main import main\n",
    "\n",
    "main()"
   ]
  }
 ],
 "metadata": {
  "interpreter": {
   "hash": "b89b5cfaba6639976dc87ff2fec6d58faec662063367e2c229c520fe71072417"
  },
  "kernelspec": {
   "display_name": "Python 3.10.2 64-bit",
   "language": "python",
   "name": "python3"
  },
  "language_info": {
   "codemirror_mode": {
    "name": "ipython",
    "version": 3
   },
   "file_extension": ".py",
   "mimetype": "text/x-python",
   "name": "python",
   "nbconvert_exporter": "python",
   "pygments_lexer": "ipython3",
   "version": "3.10.2"
  },
  "orig_nbformat": 4
 },
 "nbformat": 4,
 "nbformat_minor": 2
}
