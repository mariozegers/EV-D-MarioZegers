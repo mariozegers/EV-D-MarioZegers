{
 "cells": [
  {
   "cell_type": "markdown",
   "metadata": {},
   "source": [
    "EVALUACIÓN-DIAGNÓSTICO BUENAS PRÁCTICAS GITFLOW\n",
    "\n",
    "En este notebook se encuentra la ejecución de la función main, que llama a las otras 4 funciones pedidas, lo que requerirá de un input que va del 0 al 3 para ejecutarla.\n",
    "\n",
    "IMPORTANTE: SE NECESITA TENER EL ARCHIVO \"farmers-protest-tweets-2021-03-5.json\" en la misma carpeta que los otros archivos para ejecutarse, pero por razones lógicas no fue subido al repositorio por pesar 1.35GB."
   ]
  },
  {
   "cell_type": "code",
   "execution_count": 6,
   "metadata": {},
   "outputs": [
    {
     "name": "stdout",
     "output_type": "stream",
     "text": [
      "FarmersProtest: 406613\n",
      "IStandWithFarmers: 15783\n",
      "farmersprotest: 15458\n",
      "IndianFarmersHumanRights: 12019\n",
      "FarmersAreIndia: 11043\n",
      "StandWithFarmers: 10645\n",
      "Rihanna: 9117\n",
      "FarmersProtests: 8750\n",
      "Farmers: 6561\n",
      "shameonbollywood: 6270\n"
     ]
    }
   ],
   "source": [
    "from main import main\n",
    "\n",
    "main()"
   ]
  }
 ],
 "metadata": {
  "interpreter": {
   "hash": "b89b5cfaba6639976dc87ff2fec6d58faec662063367e2c229c520fe71072417"
  },
  "kernelspec": {
   "display_name": "Python 3.10.2 64-bit",
   "language": "python",
   "name": "python3"
  },
  "language_info": {
   "codemirror_mode": {
    "name": "ipython",
    "version": 3
   },
   "file_extension": ".py",
   "mimetype": "text/x-python",
   "name": "python",
   "nbconvert_exporter": "python",
   "pygments_lexer": "ipython3",
   "version": "3.10.2"
  },
  "orig_nbformat": 4
 },
 "nbformat": 4,
 "nbformat_minor": 2
}
